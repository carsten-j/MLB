{
 "cells": [
  {
   "cell_type": "code",
   "execution_count": 1,
   "id": "18960e82",
   "metadata": {},
   "outputs": [
    {
     "data": {
      "text/plain": [
       "'\\nReproduce the data behind Figure 2a of              \\nThiemann, Igel, Wintenberger & Seldin\\n\"A Strongly Quasiconvex PAC-Bayesian Bound\" (arXiv:1608.05610v2).\\n\\nThe script follows *exactly* the construction in Sections 5 and 6 of the paper:\\n\\n    • build an ensemble  H  of m weak RBF-SVMs\\n      - each is trained on      r = d+1   examples\\n      - validated on the other  nr       examples\\n    • compute the validation-loss vector   L̂_val(h,S)         (Eq. (13))\\n    • minimise the PAC-Bayes-lambda bound of Theorem 6 by the\\n      alternating (rho,lambda) procedure derived from Eqs. (7) and (8)\\n      - numerically-stable computation in log-domain\\n        (see the *hint* in Exercise 3.8 of the course notes)\\n    • evaluate on a disjoint test set and draw the figure that\\n      matches Figure 2(a)\\n'"
      ]
     },
     "execution_count": 1,
     "metadata": {},
     "output_type": "execute_result"
    }
   ],
   "source": [
    "\"\"\"\n",
    "Reproduce the data behind Figure 2a of              \n",
    "Thiemann, Igel, Wintenberger & Seldin\n",
    "\"A Strongly Quasiconvex PAC-Bayesian Bound\" (arXiv:1608.05610v2).\n",
    "\n",
    "The script follows *exactly* the construction in Sections 5 and 6 of the paper:\n",
    "\n",
    "    • build an ensemble  H  of m weak RBF-SVMs\n",
    "      - each is trained on      r = d+1   examples\n",
    "      - validated on the other  nr       examples\n",
    "    • compute the validation-loss vector   L̂_val(h,S)         (Eq. (13))\n",
    "    • minimise the PAC-Bayes-lambda bound of Theorem 6 by the\n",
    "      alternating (rho,lambda) procedure derived from Eqs. (7) and (8)\n",
    "      - numerically-stable computation in log-domain\n",
    "        (see the *hint* in Exercise 3.8 of the course notes)\n",
    "    • evaluate on a disjoint test set and draw the figure that\n",
    "      matches Figure 2(a)\n",
    "\"\"\""
   ]
  },
  {
   "cell_type": "code",
   "execution_count": 2,
   "id": "9e914a27",
   "metadata": {},
   "outputs": [],
   "source": [
    "import time\n",
    "\n",
    "import matplotlib.pyplot as plt\n",
    "import numpy as np\n",
    "import pandas as pd\n",
    "from scipy.spatial.distance import cdist\n",
    "from scipy.special import logsumexp\n",
    "from sklearn.metrics import zero_one_loss\n",
    "from sklearn.model_selection import GridSearchCV, KFold, train_test_split\n",
    "from sklearn.preprocessing import StandardScaler\n",
    "from sklearn.svm import SVC"
   ]
  },
  {
   "cell_type": "markdown",
   "id": "14e32d4d",
   "metadata": {},
   "source": [
    "## 0.   Helper functions and initializations"
   ]
  },
  {
   "cell_type": "code",
   "execution_count": 3,
   "id": "52be0ca9",
   "metadata": {},
   "outputs": [],
   "source": [
    "rng = np.random.RandomState(42)\n",
    "tol = 1e-12"
   ]
  },
  {
   "cell_type": "code",
   "execution_count": 4,
   "id": "599fd1dc",
   "metadata": {},
   "outputs": [],
   "source": [
    "def Jaakola_heuristic(X, y):\n",
    "    \"\"\"\n",
    "    Compute the Jaakkola heuristic for the RBF kernel gamma parameter.\n",
    "\n",
    "    The heuristic is based on the median distance between pairs of\n",
    "    points with opposite labels. Specifically, gamma = 1 / (2 * sigma^2),\n",
    "    where sigma is the median Euclidean distance between points from1\n",
    "    different classes.\n",
    "\n",
    "    Args:\n",
    "        X (np.ndarray): Input data, shape (n_samples, n_features).\n",
    "        y (np.ndarray): Class labels, shape (n_samples,).\n",
    "                        Assumes binary classification with labels -1 and 1.\n",
    "\n",
    "    Returns:\n",
    "        float: The calculated gamma value.\n",
    "    \"\"\"\n",
    "\n",
    "    # Separate data by class labels\n",
    "    X0 = X[y == -1]\n",
    "    X1 = X[y == 1]\n",
    "\n",
    "    # Compute pairwise distances between points in X0 and X1\n",
    "    # cdist(X0, X1) returns a matrix where G_ij is the distance between X0_i and X1_j\n",
    "    G_matrix = cdist(X0, X1, metric=\"euclidean\")\n",
    "\n",
    "    # G will contain all the distances between opposite-label pairs\n",
    "    # We take the median of these distances\n",
    "    sigma = np.median(G_matrix)\n",
    "\n",
    "    # If sigma is very close to zero (e.g., all points in one class are identical to points in another)\n",
    "    # this could lead to a very large gamma. The 'tol' helps prevent division by zero.\n",
    "    gamma = 1.0 / (2.0 * sigma**2 + tol)\n",
    "    return gamma"
   ]
  },
  {
   "cell_type": "markdown",
   "id": "84dd18d3",
   "metadata": {},
   "source": [
    "## 1. Load and standardise Ionosphere data (as in paper’s experiments §6)"
   ]
  },
  {
   "cell_type": "code",
   "execution_count": 5,
   "id": "1d68a180",
   "metadata": {},
   "outputs": [],
   "source": [
    "url = (\n",
    "    \"https://archive.ics.uci.edu/ml/\"\n",
    "    \"machine-learning-databases/ionosphere/ionosphere.data\"\n",
    ")\n",
    "df = pd.read_csv(url, header=None)\n",
    "X = df.iloc[:, :-1].astype(float).values\n",
    "y = np.where(df.iloc[:, -1].values == \"g\", 1, -1)  # 'g'->+1 , 'b'->−1\n",
    "\n",
    "# split into Train S (200) / Test T (rest) as in the paper (Table 1)\n",
    "X_S, X_T, y_S, y_T = train_test_split(X, y, train_size=200, stratify=y, random_state=0)\n",
    "\n",
    "scaler = StandardScaler().fit(X_S)\n",
    "X_S, X_T = scaler.transform(X_S), scaler.transform(X_T)\n",
    "n, d = X_S.shape\n",
    "r = d + 1  # Sec. 6: weak-learner train size\n",
    "n_r = n - r  # size of each validation set\n",
    "delta = 0.05  # confidence level used throughout paper"
   ]
  },
  {
   "cell_type": "markdown",
   "id": "691a0c23",
   "metadata": {},
   "source": [
    "## 2. Baseline: single RBF-SVM tuned by 5-fold CV (as in §6)"
   ]
  },
  {
   "cell_type": "code",
   "execution_count": 6,
   "id": "a80e57b1",
   "metadata": {},
   "outputs": [
    {
     "name": "stdout",
     "output_type": "stream",
     "text": [
      " Results from Grid Search \n",
      "\n",
      " The best estimator across ALL searched params:\n",
      " SVC(C=10.0, gamma=np.float64(0.007064803820060141))\n",
      "\n",
      " The best score across ALL searched params:\n",
      " 0.9450000000000001\n",
      "\n",
      " The best parameters across ALL searched params:\n",
      " {'C': 10.0, 'gamma': np.float64(0.007064803820060141)}\n",
      "\n",
      " CV-SVM test loss: 0.08609271523178808  time: 1.3421859741210938 s\n"
     ]
    }
   ],
   "source": [
    "# as specified on page 10\n",
    "C_grid = [10.0**k for k in range(-3, 4)]\n",
    "# as specified on page 10\n",
    "gamma = Jaakola_heuristic(X_S, y_S)\n",
    "gamma_grid = [gamma * 10.0**k for k in [-4, -2, 0, 2, 4]]\n",
    "\n",
    "cv_svc = SVC(kernel=\"rbf\")\n",
    "param_grid = {\"C\": C_grid, \"gamma\": gamma_grid}\n",
    "fold = KFold(n_splits=5, shuffle=False)\n",
    "# 5-fold cross-validation\n",
    "cv = GridSearchCV(cv_svc, param_grid, cv=fold, n_jobs=-1)\n",
    "t0 = time.time()\n",
    "cv.fit(X_S, y_S)\n",
    "t_cv = time.time() - t0\n",
    "\n",
    "print(\" Results from Grid Search \")\n",
    "print(\"\\n The best estimator across ALL searched params:\\n\", cv.best_estimator_)\n",
    "print(\"\\n The best score across ALL searched params:\\n\", cv.best_score_)\n",
    "print(\"\\n The best parameters across ALL searched params:\\n\", cv.best_params_)\n",
    "\n",
    "svm_cv = cv.best_estimator_\n",
    "loss_cv = zero_one_loss(svm_cv.predict(X_T), y_T)\n",
    "print(\"\\n CV-SVM test loss:\", loss_cv, \" time:\", t_cv, \"s\")\n"
   ]
  },
  {
   "cell_type": "markdown",
   "id": "9e4a4cc6",
   "metadata": {},
   "source": [
    "## 3.   PAC-Bayes alternating-minimiation —— the core of Exercise 3.8\n",
    "\n",
    "Implements Eq. (7) & (8) with bound Eq. (13)"
   ]
  },
  {
   "cell_type": "code",
   "execution_count": 7,
   "id": "2fb6e74d",
   "metadata": {},
   "outputs": [],
   "source": [
    "def minimize_bound(L_val):\n",
    "    \"\"\"\n",
    "    # Perform alternating minimisation of F(rho,lambda)$\n",
    "    # (RHS of Eq. (13)).\n",
    "    * L_val : vector (m,) of validation losses\n",
    "\n",
    "    Returns rho, lambda^*, bound value.\n",
    "    \"\"\"\n",
    "    m = len(L_val)\n",
    "    log_pi = -np.log(m) * np.ones(m)  # uniform prior  \\pi(h)=1/m (from page 10)\n",
    "    lambda_ = 1.0\n",
    "\n",
    "    for i in range(50):\n",
    "        # Eq. (7): computed in log-domain for numerical stability\n",
    "        log_rho = log_pi - lambda_ * n_r * L_val\n",
    "        log_rho -= logsumexp(log_rho)\n",
    "        rho = np.exp(log_rho)\n",
    "\n",
    "        # helpers for Eq. (8) & bound. KL divergence is computed\n",
    "        # in log-domain using the first equality in Eq. (9)\n",
    "        KL = np.sum(rho * (log_rho - log_pi))\n",
    "        L_emp = np.dot(rho, L_val)\n",
    "\n",
    "        # Eq. (8): lambda_new\n",
    "        num = 2.0\n",
    "        denom = (\n",
    "            np.sqrt(2.0 * n_r * L_emp / (KL + np.log(2 * np.sqrt(n_r) / delta)))\n",
    "            + 1.0\n",
    "            + 1.0\n",
    "        )\n",
    "        lambda_new = num / denom\n",
    "\n",
    "        if abs(lambda_new - lambda_) < 1e-5:  # conv. criterion\n",
    "            lambda_ = lambda_new\n",
    "            break\n",
    "        lambda_ = lambda_new\n",
    "\n",
    "    # Eq. (13): value of PAC-Bayes-\\lambda bound\n",
    "    bound = L_emp / (1 - lambda_ / 2.0) + (KL + np.log(2 * np.sqrt(n_r) / delta)) / (\n",
    "        n_r * lambda_ * (1 - lambda_ / 2.0)\n",
    "    )\n",
    "\n",
    "    return rho, lambda_, bound"
   ]
  },
  {
   "cell_type": "markdown",
   "id": "d067df2b",
   "metadata": {},
   "source": [
    "## 4. Iterate over m = 10^0, ..., 10^2, ..  (Figure 2(a) x-axis)"
   ]
  },
  {
   "cell_type": "code",
   "execution_count": 8,
   "id": "4fc307f7",
   "metadata": {},
   "outputs": [],
   "source": [
    "# The m values are eye-catchers from figure 2(a) of the paper.\n",
    "# They are not the same as in the paper, but they are close enough\n",
    "# to the ones used in the paper to reproduce the figure.\n",
    "\n",
    "M_list = [\n",
    "    1,\n",
    "    2,\n",
    "    3,\n",
    "    4,\n",
    "    5,\n",
    "    6,\n",
    "    8,\n",
    "    10,\n",
    "    12,\n",
    "    15,\n",
    "    20,\n",
    "    25,\n",
    "    35,\n",
    "    45,\n",
    "    65,\n",
    "    85,\n",
    "    110,\n",
    "    135,\n",
    "    160,\n",
    "    200,\n",
    "]\n"
   ]
  },
  {
   "cell_type": "code",
   "execution_count": 9,
   "id": "2615cf72",
   "metadata": {},
   "outputs": [],
   "source": [
    "mv_loss, bound_val, run_time = [], [], []\n",
    "\n",
    "# Pre-compute indices for more efficient masking\n",
    "all_indices = np.arange(n)\n",
    "\n",
    "for m in M_list:\n",
    "    t0 = time.time()\n",
    "    L_val = np.zeros(m)\n",
    "    predsT = np.zeros((m, len(y_T)))\n",
    "\n",
    "    # Build ensemble of m weak SVMs  (Sec. 5 construction\n",
    "    # of Hypothesis Space H)\n",
    "    for i in range(m):\n",
    "        # Select r = d + 1 random indices for training\n",
    "        # and the rest for validation\n",
    "        train_idx = rng.choice(n, r, replace=False)\n",
    "        val_idx = np.setdiff1d(all_indices, train_idx, assume_unique=True)\n",
    "\n",
    "        X_tr, y_tr = X_S[train_idx], y_S[train_idx]\n",
    "        X_val, y_val = X_S[val_idx], y_S[val_idx]\n",
    "\n",
    "        # Select random gamma from grid - p. 10 in paper\n",
    "        gamma = rng.choice(gamma_grid)\n",
    "        clf = SVC(kernel=\"rbf\", C=1.0, gamma=gamma).fit(X_tr, y_tr)\n",
    "\n",
    "        L_val[i] = zero_one_loss(clf.predict(X_val), y_val)\n",
    "        predsT[i] = clf.predict(X_T)\n",
    "\n",
    "    rho, _, bound = minimize_bound(L_val)\n",
    "\n",
    "    # rho-weighted Majority vote of Eq. (3.31)\n",
    "    # in Machine Learning: The science of selection under uncertainty\n",
    "    mv_raw = rho @ predsT\n",
    "    mv_pred = np.sign(mv_raw)  # ±1  (np.sign(0) returns 0 – no tie here)\n",
    "\n",
    "    mv_loss.append(zero_one_loss(mv_pred, y_T))\n",
    "    bound_val.append(bound)  # randomized  classifier\n",
    "    run_time.append(time.time() - t0)\n",
    "\n",
    "mv_loss = np.asarray(mv_loss)\n",
    "bound_val = np.asarray(bound_val)\n",
    "run_time = np.asarray(run_time)\n"
   ]
  },
  {
   "cell_type": "markdown",
   "id": "df629dbd",
   "metadata": {},
   "source": [
    "## 5. Plot Figure 2(a)"
   ]
  },
  {
   "cell_type": "code",
   "execution_count": 10,
   "id": "6bf40e83",
   "metadata": {},
   "outputs": [
    {
     "data": {
      "image/png": "[encoded data removed]",
      "text/plain": [
       "<Figure size 900x700 with 2 Axes>"
      ]
     },
     "metadata": {},
     "output_type": "display_data"
    }
   ],
   "source": [
    "fig, ax1 = plt.subplots(figsize=(9, 7))\n",
    "\n",
    "ax1.set_xscale(\"log\", base=10)\n",
    "ax1.set_xlabel(\"m\")\n",
    "ax1.set_ylabel(\"Test loss\")\n",
    "\n",
    "ax1.plot(M_list, mv_loss, \"k-\", label=\"Our Method\")\n",
    "\n",
    "ax1.hlines(\n",
    "    loss_cv,\n",
    "    M_list[0],\n",
    "    M_list[-1],\n",
    "    colors=\"r\",\n",
    "    linestyle=\"-\",\n",
    "    label=\"CV SVM\",\n",
    ")\n",
    "\n",
    "ax1.plot(M_list, bound_val, \"b-\", label=\"Bound\")\n",
    "\n",
    "ax2 = ax1.twinx()\n",
    "ax2.set_ylabel(\"Runtime  (s)\")\n",
    "ax2.plot(M_list, run_time, \"k--\", label=r\"$t_{m}$\")\n",
    "ax2.hlines(t_cv, M_list[0], M_list[-1], colors=\"r\", linestyle=\"--\", label=r\"$t_{CV}$\")\n",
    "\n",
    "# merge legends from both axes\n",
    "lines, labels = ax1.get_legend_handles_labels()\n",
    "lines2, labels2 = ax2.get_legend_handles_labels()\n",
    "ax1.legend(\n",
    "    lines + lines2,\n",
    "    labels + labels2,\n",
    "    fontsize=10,\n",
    "    framealpha=1.0,\n",
    "    loc=\"upper right\",\n",
    "    bbox_to_anchor=(0.97, 0.95),\n",
    ")\n",
    "\n",
    "plt.tight_layout()\n",
    "plt.savefig(\"figure_2a.pdf\", bbox_inches=\"tight\", dpi=600)\n",
    "plt.show()"
   ]
  },
  {
   "cell_type": "code",
   "execution_count": null,
   "id": "2259ff85",
   "metadata": {},
   "outputs": [],
   "source": []
  }
 ],
 "metadata": {
  "kernelspec": {
   "display_name": ".venv",
   "language": "python",
   "name": "python3"
  },
  "language_info": {
   "codemirror_mode": {
    "name": "ipython",
    "version": 3
   },
   "file_extension": ".py",
   "mimetype": "text/x-python",
   "name": "python",
   "nbconvert_exporter": "python",
   "pygments_lexer": "ipython3",
   "version": "3.12.9"
  }
 },
 "nbformat": 4,
 "nbformat_minor": 5
}
