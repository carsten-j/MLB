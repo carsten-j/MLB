{
 "cells": [
  {
   "cell_type": "code",
   "execution_count": 10,
   "id": "37aa19e8",
   "metadata": {},
   "outputs": [],
   "source": [
    "import os\n",
    "\n",
    "import pandas as pd\n",
    "from sklearn.preprocessing import StandardScaler\n",
    "from ucimlrepo import fetch_ucirepo"
   ]
  },
  {
   "cell_type": "code",
   "execution_count": null,
   "id": "9b0e843a",
   "metadata": {},
   "outputs": [],
   "source": [
    "def get_ionosphere_data(csv_path=\"ionosphere_data.csv\", scale=True):\n",
    "    \"\"\"Load ionosphere data from CSV if it exists, otherwise fetch from UCI repository\"\"\"\n",
    "\n",
    "    if os.path.exists(csv_path):\n",
    "        print(f\"Loading data from existing file: {csv_path}\")\n",
    "        # Load the data\n",
    "        Xy_loaded = pd.read_csv(csv_path)\n",
    "\n",
    "        # Split into features and target\n",
    "        X_loaded = Xy_loaded.iloc[:, :-1]  # All columns except last\n",
    "        y_loaded = Xy_loaded.iloc[:, -1]  # Just the last column\n",
    "\n",
    "        return X_loaded.to_numpy(), y_loaded.to_numpy()\n",
    "    else:\n",
    "        print(f\"File {csv_path} not found. Downloading from UCI repository...\")\n",
    "\n",
    "        # Fetch the dataset\n",
    "        ionosphere = fetch_ucirepo(id=52)\n",
    "\n",
    "        # Get features and targets\n",
    "        X = ionosphere.data.features\n",
    "        y_class = ionosphere.data.targets\n",
    "\n",
    "        # Convert target labels\n",
    "        y = y_class.copy()\n",
    "        y[\"Class\"] = y_class[\"Class\"].map({\"g\": 1, \"b\": -1})\n",
    "\n",
    "        # Apply scaling to the features\n",
    "        scaler = StandardScaler()\n",
    "        X_scaled = pd.DataFrame(scaler.fit_transform(X), columns=X.columns)\n",
    "\n",
    "        # Create combined dataframe with scaled features\n",
    "        Xy = pd.concat([X_scaled, y], axis=1)\n",
    "\n",
    "        # Save to CSV\n",
    "        Xy.to_csv(csv_path, index=False)\n",
    "        print(f\"Downloaded data, scaled features, and saved to {csv_path}\")\n",
    "\n",
    "        return X_scaled.to_numpy(), y[\"Class\"].to_numpy()\n"
   ]
  },
  {
   "cell_type": "code",
   "execution_count": 14,
   "id": "b68bad6d",
   "metadata": {},
   "outputs": [
    {
     "name": "stdout",
     "output_type": "stream",
     "text": [
      "File ionosphere_data.csv not found. Downloading from UCI repository...\n",
      "Downloaded data, scaled features, and saved to ionosphere_data.csv\n",
      "Loaded data with 351 samples and 34 features\n"
     ]
    }
   ],
   "source": [
    "# Usage\n",
    "X, y = get_ionosphere_data()\n",
    "print(f\"Loaded data with {X.shape[0]} samples and {X.shape[1]} features\")"
   ]
  },
  {
   "cell_type": "code",
   "execution_count": null,
   "id": "b84ce4c6",
   "metadata": {},
   "outputs": [
    {
     "data": {
      "text/plain": [
       "numpy.float64"
      ]
     },
     "execution_count": 9,
     "metadata": {},
     "output_type": "execute_result"
    }
   ],
   "source": []
  },
  {
   "cell_type": "code",
   "execution_count": null,
   "id": "9118c2c6",
   "metadata": {},
   "outputs": [],
   "source": []
  }
 ],
 "metadata": {
  "kernelspec": {
   "display_name": ".venv",
   "language": "python",
   "name": "python3"
  },
  "language_info": {
   "codemirror_mode": {
    "name": "ipython",
    "version": 3
   },
   "file_extension": ".py",
   "mimetype": "text/x-python",
   "name": "python",
   "nbconvert_exporter": "python",
   "pygments_lexer": "ipython3",
   "version": "3.12.4"
  }
 },
 "nbformat": 4,
 "nbformat_minor": 5
}
