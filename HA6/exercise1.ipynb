{
 "cells": [
  {
   "cell_type": "markdown",
   "id": "7b3794fb",
   "metadata": {},
   "source": [
    "# Landcover Classification using AdaBoost\n",
    "\n",
    "You are supposed to train and apply a boosting model for landcover classification. Below, you can find some code that already parses the data. For your submission, run and submit the extended jupyter notebook."
   ]
  },
  {
   "cell_type": "code",
   "execution_count": 1,
   "id": "42bd352a",
   "metadata": {},
   "outputs": [],
   "source": [
    "import time\n",
    "\n",
    "import matplotlib.pyplot as plt\n",
    "import numpy as np\n",
    "import pandas as pd\n",
    "import seaborn as sns\n",
    "from sklearn.ensemble import AdaBoostClassifier\n",
    "from sklearn.metrics import accuracy_score, confusion_matrix\n",
    "from sklearn.model_selection import GridSearchCV, StratifiedKFold\n",
    "from sklearn.preprocessing import StandardScaler\n",
    "from sklearn.tree import DecisionTreeClassifier\n"
   ]
  },
  {
   "cell_type": "code",
   "execution_count": 2,
   "id": "52d207e4",
   "metadata": {},
   "outputs": [],
   "source": [
    "classes = {\n",
    "    1: \"cultivated_land\",\n",
    "    2: \"forest\",\n",
    "    3: \"grassland\",\n",
    "    4: \"shrubland\",\n",
    "    5: \"water\",\n",
    "    8: \"artificial_surface\",\n",
    "    9: \"bareland\",\n",
    "}"
   ]
  },
  {
   "cell_type": "code",
   "execution_count": 3,
   "id": "c2a83a20",
   "metadata": {},
   "outputs": [],
   "source": [
    "def load_data(train_file=\"./train.npz\", test_file=\"./test.npz\", normalize=False):\n",
    "    \"\"\"\n",
    "    Load training and test datasets from .npz files.\n",
    "\n",
    "    Args:\n",
    "        train_file (str): Path to training data file. Default: \"./train.npz\"\n",
    "        test_file (str): Path to test data file. Default: \"./test.npz\"\n",
    "        normalize (bool): Whether to normalize/scale the data. Default: False\n",
    "\n",
    "    Returns:\n",
    "        tuple: (X_train, y_train, X_test, y_test)\n",
    "            - X_train: Training features with original shape\n",
    "            - y_train: Training labels with original shape\n",
    "            - X_test: Test features with original shape\n",
    "            - y_test: Test labels with original shape\n",
    "    \"\"\"\n",
    "    # Load data\n",
    "    train = np.load(train_file)\n",
    "    X_train = train[\"X\"]\n",
    "    y_train = train[\"y\"]\n",
    "\n",
    "    test = np.load(test_file)\n",
    "    X_test = test[\"X\"]\n",
    "    y_test = test[\"y\"]\n",
    "\n",
    "    if normalize:\n",
    "        # Store original shapes\n",
    "        train_shape = X_train.shape\n",
    "        test_shape = X_test.shape\n",
    "\n",
    "        # Flatten for StandardScaler (requires 2D input)\n",
    "        X_train_flat = X_train.reshape(train_shape[0], -1)\n",
    "        X_test_flat = X_test.reshape(test_shape[0], -1)\n",
    "\n",
    "        # Apply StandardScaler\n",
    "        scaler = StandardScaler()\n",
    "        X_train_scaled = scaler.fit_transform(X_train_flat)\n",
    "        X_test_scaled = scaler.transform(X_test_flat)\n",
    "\n",
    "        # Reshape back to original shapes\n",
    "        X_train = X_train_scaled.reshape(train_shape)\n",
    "        X_test = X_test_scaled.reshape(test_shape)\n",
    "\n",
    "    # Assert expected shapes\n",
    "    assert X_train.shape == (6953, 12, 13, 13, 6), (\n",
    "        f\"Expected training data shape (6953, 12, 13, 13, 6), got {X_train.shape}\"\n",
    "    )\n",
    "    assert y_train.shape == (6953,), (\n",
    "        f\"Expected training labels shape (6953,), got {y_train.shape}\"\n",
    "    )\n",
    "    assert X_test.shape == (1739, 12, 13, 13, 6), (\n",
    "        f\"Expected test data shape (1739, 12, 13, 13, 6), got {X_test.shape}\"\n",
    "    )\n",
    "    assert y_test.shape == (1739,), (\n",
    "        f\"Expected test labels shape (1739,), got {y_test.shape}\"\n",
    "    )\n",
    "\n",
    "    return X_train, y_train, X_test, y_test"
   ]
  },
  {
   "cell_type": "code",
   "execution_count": 4,
   "id": "c4651330",
   "metadata": {},
   "outputs": [],
   "source": [
    "X_train, y_train, X_test, y_test = load_data(normalize=True)"
   ]
  },
  {
   "cell_type": "code",
   "execution_count": 5,
   "id": "1fb60375",
   "metadata": {},
   "outputs": [
    {
     "name": "stdout",
     "output_type": "stream",
     "text": [
      "Class distribution in training set:\n",
      "  cultivated_land: 194 samples\n",
      "  forest: 4641 samples\n",
      "  grassland: 901 samples\n",
      "  shrubland: 617 samples\n",
      "  water: 45 samples\n",
      "  artificial_surface: 175 samples\n",
      "  bareland: 380 samples\n"
     ]
    }
   ],
   "source": [
    "print(\"Class distribution in training set:\")\n",
    "unique, counts = np.unique(y_train, return_counts=True)\n",
    "for cls, count in zip(unique, counts):\n",
    "    print(f\"  {classes[cls]}: {count} samples\")"
   ]
  },
  {
   "cell_type": "markdown",
   "id": "023e9d40",
   "metadata": {},
   "source": [
    "## Feature Selection"
   ]
  },
  {
   "cell_type": "code",
   "execution_count": 6,
   "id": "db8c5886",
   "metadata": {},
   "outputs": [],
   "source": [
    "def extract_central_pixels(X):\n",
    "    \"\"\"\n",
    "    Extract central pixels from image data.\n",
    "\n",
    "    Args:\n",
    "        X: Input data of shape (n_samples, n_timestamps, height, width, n_bands)\n",
    "\n",
    "    Returns:\n",
    "        Feature matrix of shape (n_samples, n_timestamps * n_bands)\n",
    "    \"\"\"\n",
    "    n_samples, n_timestamps, height, width, n_bands = X.shape\n",
    "    center_idx = height // 2  # Central pixel index (6 for 13x13 images)\n",
    "\n",
    "    # Extract central pixel for all timestamps and bands\n",
    "    central_features = X[:, :, center_idx, center_idx, :]  # Shape: (n_samples, 12, 6)\n",
    "\n",
    "    # Flatten to create feature vectors\n",
    "    features = central_features.reshape(\n",
    "        n_samples, n_timestamps * n_bands\n",
    "    )  # Shape: (n_samples, 72)\n",
    "\n",
    "    return features"
   ]
  },
  {
   "cell_type": "code",
   "execution_count": 7,
   "id": "99054228",
   "metadata": {},
   "outputs": [],
   "source": [
    "def extract_spatial_features(data, window_sizes=[3, 5]):\n",
    "    \"\"\"Extract spatial texture and statistical features\"\"\"\n",
    "    n_samples, n_timestamps, height, width, n_bands = data.shape\n",
    "\n",
    "    spatial_features = []\n",
    "\n",
    "    center = height // 2\n",
    "\n",
    "    for window_size in window_sizes:\n",
    "        half_window = window_size // 2\n",
    "        start_idx = center - half_window\n",
    "        end_idx = center + half_window + 1\n",
    "\n",
    "        # Extract window around central pixel\n",
    "        window_data = data[:, :, start_idx:end_idx, start_idx:end_idx, :]\n",
    "\n",
    "        # Calculate statistics\n",
    "        mean_val = np.mean(\n",
    "            window_data, axis=(2, 3)\n",
    "        )  # (n_samples, n_timestamps, n_bands)\n",
    "        std_val = np.std(window_data, axis=(2, 3))\n",
    "\n",
    "        # Flatten for each window size\n",
    "        spatial_features.extend(\n",
    "            [\n",
    "                mean_val.reshape(n_samples, -1),\n",
    "                std_val.reshape(n_samples, -1),\n",
    "            ]\n",
    "        )\n",
    "\n",
    "    return np.concatenate(spatial_features, axis=1)"
   ]
  },
  {
   "cell_type": "code",
   "execution_count": 8,
   "id": "703e994b",
   "metadata": {},
   "outputs": [],
   "source": [
    "def create_features(X, include_spatial=False, window_sizes=[5]):\n",
    "    \"\"\"\n",
    "    Create comprehensive feature set\n",
    "\n",
    "    Args:\n",
    "        X: Input data of shape (n_samples, n_timestamps, height, width, n_bands)\n",
    "        include_spatial (bool): Whether to include spatial features. Default: False\n",
    "        window_sizes (list): List of window sizes for spatial features. Default: [5]\n",
    "\n",
    "    Returns:\n",
    "        Feature matrix combining central pixels and optionally spatial features\n",
    "    \"\"\"\n",
    "    # 1. Central pixel features (baseline)\n",
    "    central_features = extract_central_pixels(X)\n",
    "\n",
    "    if include_spatial:\n",
    "        # 2. Spatial features\n",
    "        spatial_features = extract_spatial_features(X, window_sizes=window_sizes)\n",
    "\n",
    "        # Combine all features\n",
    "        all_features = np.concatenate(\n",
    "            [\n",
    "                central_features,  # 72 features\n",
    "                spatial_features,  # Variable depending on window_sizes\n",
    "            ],\n",
    "            axis=1,\n",
    "        )\n",
    "    else:\n",
    "        # Only central pixel features\n",
    "        all_features = central_features\n",
    "\n",
    "    return all_features"
   ]
  },
  {
   "cell_type": "code",
   "execution_count": 9,
   "id": "b898fa89",
   "metadata": {},
   "outputs": [
    {
     "name": "stdout",
     "output_type": "stream",
     "text": [
      "Original training data shape: (6953, 12, 13, 13, 6)\n",
      "Central pixel features shape: (6953, 72)\n",
      "Number of features per sample: 72\n"
     ]
    }
   ],
   "source": [
    "# Extract features\n",
    "X_train_central = create_features(X_train, include_spatial=False, window_sizes=[5])\n",
    "X_test_central = create_features(X_test, include_spatial=False, window_sizes=[5])\n",
    "\n",
    "print(f\"Original training data shape: {X_train.shape}\")\n",
    "print(f\"Central pixel features shape: {X_train_central.shape}\")\n",
    "print(f\"Number of features per sample: {X_train_central.shape[1]}\")\n",
    "\n",
    "# Flatten labels for sklearn compatibility\n",
    "y_train_flat = y_train.ravel()\n",
    "y_test_flat = y_test.ravel()\n"
   ]
  },
  {
   "cell_type": "markdown",
   "id": "c8e4d7ea",
   "metadata": {},
   "source": [
    "## AdaBoost Model Training and Evaluation"
   ]
  },
  {
   "cell_type": "code",
   "execution_count": 10,
   "id": "4bced747",
   "metadata": {},
   "outputs": [
    {
     "name": "stdout",
     "output_type": "stream",
     "text": [
      "Performing grid search with 2-fold cross validation...\n",
      "Fitting 2 folds for each of 9 candidates, totalling 18 fits\n",
      "\n",
      "Best parameters: {'estimator__max_depth': 3, 'n_estimators': 200}\n",
      "Best cross-validation accuracy: 0.7597\n"
     ]
    }
   ],
   "source": [
    "# Set up grid search parameters\n",
    "param_grid = {\n",
    "    \"estimator__max_depth\": [1, 2, 3],\n",
    "    \"n_estimators\": [50, 100, 200],\n",
    "}\n",
    "\n",
    "# Create base classifier (Decision Tree with Gini impurity)\n",
    "base_classifier = DecisionTreeClassifier(criterion=\"gini\", random_state=42)\n",
    "\n",
    "# Create AdaBoost classifier with SAMME algorithm\n",
    "ada_boost = AdaBoostClassifier(\n",
    "    estimator=base_classifier, algorithm=\"SAMME\", random_state=42\n",
    ")\n",
    "\n",
    "# Set up 2-fold cross validation\n",
    "cv = StratifiedKFold(n_splits=2, shuffle=True, random_state=42)\n",
    "\n",
    "# Perform grid search\n",
    "print(\"Performing grid search with 2-fold cross validation...\")\n",
    "grid_search = GridSearchCV(\n",
    "    estimator=ada_boost,\n",
    "    param_grid=param_grid,\n",
    "    cv=cv,\n",
    "    scoring=\"accuracy\",\n",
    "    n_jobs=-1,\n",
    "    verbose=1,\n",
    ")\n",
    "\n",
    "# Fit grid search\n",
    "grid_search.fit(X_train_central, y_train_flat)\n",
    "\n",
    "# Print results\n",
    "print(f\"\\nBest parameters: {grid_search.best_params_}\")\n",
    "print(f\"Best cross-validation accuracy: {grid_search.best_score_:.4f}\")\n"
   ]
  },
  {
   "cell_type": "code",
   "execution_count": 11,
   "id": "68281977",
   "metadata": {},
   "outputs": [
    {
     "name": "stdout",
     "output_type": "stream",
     "text": [
      "Testing different parameter combinations and feature sets:\n",
      "============================================================\n",
      "\n",
      "Testing max_depth=3, n_estimators=200\n",
      "Feature set: Central Pixels Only\n",
      "Feature shape: 72 features\n",
      "  Training Accuracy: 0.7742\n",
      "  Test Accuracy: 0.7188\n",
      "  Fit Time: 18.9444 seconds\n",
      "\n",
      "Testing max_depth=3, n_estimators=200\n",
      "Feature set: Central + Spatial Features\n",
      "Feature shape: 216 features\n",
      "  Training Accuracy: 0.8253\n",
      "  Test Accuracy: 0.7585\n",
      "  Fit Time: 65.8750 seconds\n",
      "\n",
      "Testing max_depth=8, n_estimators=400\n",
      "Feature set: Central Pixels Only\n",
      "Feature shape: 72 features\n",
      "  Training Accuracy: 1.0000\n",
      "  Test Accuracy: 0.8235\n",
      "  Fit Time: 97.6872 seconds\n",
      "\n",
      "Testing max_depth=8, n_estimators=400\n",
      "Feature set: Central + Spatial Features\n",
      "Feature shape: 216 features\n",
      "  Training Accuracy: 1.0000\n",
      "  Test Accuracy: 0.8269\n",
      "  Fit Time: 324.9704 seconds\n"
     ]
    }
   ],
   "source": [
    "# Parameter combinations to test\n",
    "parameter_combinations = [(3, 200), (8, 400)]\n",
    "\n",
    "# Feature configurations to test\n",
    "feature_configs = [\n",
    "    {\"name\": \"Central Pixels Only\", \"include_spatial\": False, \"window_sizes\": [5]},\n",
    "    {\n",
    "        \"name\": \"Central + Spatial Features\",\n",
    "        \"include_spatial\": True,\n",
    "        \"window_sizes\": [5],\n",
    "    },\n",
    "]\n",
    "\n",
    "# Store results\n",
    "results = []\n",
    "\n",
    "print(\"Testing different parameter combinations and feature sets:\")\n",
    "print(\"=\" * 60)\n",
    "\n",
    "for max_depth, n_estimators in parameter_combinations:\n",
    "    for config in feature_configs:\n",
    "        print(f\"\\nTesting max_depth={max_depth}, n_estimators={n_estimators}\")\n",
    "        print(f\"Feature set: {config['name']}\")\n",
    "\n",
    "        # Create training and test features with current configuration\n",
    "        X_train_features = create_features(\n",
    "            X_train,\n",
    "            include_spatial=config[\"include_spatial\"],\n",
    "            window_sizes=config[\"window_sizes\"],\n",
    "        )\n",
    "        X_test_features = create_features(\n",
    "            X_test,\n",
    "            include_spatial=config[\"include_spatial\"],\n",
    "            window_sizes=config[\"window_sizes\"],\n",
    "        )\n",
    "\n",
    "        print(f\"Feature shape: {X_train_features.shape[1]} features\")\n",
    "\n",
    "        # Create base classifier with current parameters\n",
    "        base_classifier = DecisionTreeClassifier(\n",
    "            criterion=\"gini\", random_state=42, max_depth=max_depth\n",
    "        )\n",
    "\n",
    "        # Create AdaBoost classifier\n",
    "        ada_boost = AdaBoostClassifier(\n",
    "            estimator=base_classifier,\n",
    "            algorithm=\"SAMME\",\n",
    "            random_state=42,\n",
    "            n_estimators=n_estimators,\n",
    "        )\n",
    "\n",
    "        # Train the model and measure time\n",
    "        start_time = time.time()\n",
    "        ada_boost.fit(X_train_features, y_train_flat)\n",
    "        end_time = time.time()\n",
    "        fit_time = end_time - start_time\n",
    "\n",
    "        # Calculate training accuracy\n",
    "        train_accuracy = ada_boost.score(X_train_features, y_train_flat)\n",
    "\n",
    "        # Calculate test accuracy\n",
    "        y_pred_current = ada_boost.predict(X_test_features)\n",
    "        test_accuracy = accuracy_score(y_test_flat, y_pred_current)\n",
    "\n",
    "        # Store results\n",
    "        result = {\n",
    "            \"max_depth\": max_depth,\n",
    "            \"n_estimators\": n_estimators,\n",
    "            \"feature_config\": config[\"name\"],\n",
    "            \"num_features\": X_train_features.shape[1],\n",
    "            \"train_accuracy\": train_accuracy,\n",
    "            \"test_accuracy\": test_accuracy,\n",
    "            \"fit_time\": fit_time,\n",
    "            \"model\": ada_boost,\n",
    "            \"predictions\": y_pred_current,\n",
    "        }\n",
    "        results.append(result)\n",
    "\n",
    "        print(f\"  Training Accuracy: {train_accuracy:.4f}\")\n",
    "        print(f\"  Test Accuracy: {test_accuracy:.4f}\")\n",
    "        print(f\"  Fit Time: {fit_time:.4f} seconds\")\n"
   ]
  },
  {
   "cell_type": "code",
   "execution_count": 12,
   "id": "84454155",
   "metadata": {},
   "outputs": [
    {
     "data": {
      "text/plain": [
       "'\\\\begin{tabular}{lrrlrrrr}\\n\\\\toprule\\n & max_depth & n_estimators & feature_config & num_features & train_accuracy & test_accuracy & fit_time \\\\\\\\\\n\\\\midrule\\n0 & 3 & 200 & Central Pixels Only & 72 & 0.774198 & 0.718804 & 18.944362 \\\\\\\\\\n1 & 3 & 200 & Central + Spatial Features & 216 & 0.825255 & 0.758482 & 65.874972 \\\\\\\\\\n2 & 8 & 400 & Central Pixels Only & 72 & 1.000000 & 0.823462 & 97.687216 \\\\\\\\\\n3 & 8 & 400 & Central + Spatial Features & 216 & 1.000000 & 0.826912 & 324.970376 \\\\\\\\\\n\\\\bottomrule\\n\\\\end{tabular}\\n'"
      ]
     },
     "execution_count": 12,
     "metadata": {},
     "output_type": "execute_result"
    }
   ],
   "source": [
    "# Create DataFrame from results, excluding model and predictions\n",
    "df_results = pd.DataFrame(\n",
    "    [\n",
    "        {\n",
    "            key: value\n",
    "            for key, value in result.items()\n",
    "            if key not in [\"model\", \"predictions\"]\n",
    "        }\n",
    "        for result in results\n",
    "    ]\n",
    ")\n",
    "\n",
    "df_results.to_latex()\n"
   ]
  },
  {
   "cell_type": "markdown",
   "id": "4e6beafd",
   "metadata": {},
   "source": [
    "## Confusion Matrix"
   ]
  },
  {
   "cell_type": "code",
   "execution_count": 13,
   "id": "36bd6ed9",
   "metadata": {},
   "outputs": [
    {
     "data": {
      "image/png": "[encoded data removed]",
      "text/plain": [
       "<Figure size 1000x800 with 2 Axes>"
      ]
     },
     "metadata": {},
     "output_type": "display_data"
    }
   ],
   "source": [
    "# Create confusion matrix\n",
    "\n",
    "y_pred = results[0][\"predictions\"]  # Use predictions from the first result\n",
    "\n",
    "cm = confusion_matrix(y_test_flat, y_pred)\n",
    "\n",
    "# Plot confusion matrix\n",
    "plt.figure(figsize=(10, 8))\n",
    "class_names = [classes[i] for i in sorted(classes.keys())]\n",
    "sns.heatmap(\n",
    "    cm,\n",
    "    annot=True,\n",
    "    fmt=\"d\",\n",
    "    cmap=sns.color_palette(\"rocket_r\", as_cmap=True),\n",
    "    xticklabels=class_names,\n",
    "    yticklabels=class_names,\n",
    ")\n",
    "plt.title(\"Confusion Matrix - AdaBoost Landcover Classification\")\n",
    "plt.xlabel(\"Predicted Class\")\n",
    "plt.ylabel(\"True Class\")\n",
    "plt.xticks(rotation=45, ha=\"right\")\n",
    "plt.yticks(rotation=0)\n",
    "plt.savefig(\"confusion_matrix.pdf\", dpi=300, bbox_inches=\"tight\")\n",
    "plt.tight_layout()\n",
    "plt.show()\n"
   ]
  }
 ],
 "metadata": {
  "kernelspec": {
   "display_name": ".venv",
   "language": "python",
   "name": "python3"
  },
  "language_info": {
   "codemirror_mode": {
    "name": "ipython",
    "version": 3
   },
   "file_extension": ".py",
   "mimetype": "text/x-python",
   "name": "python",
   "nbconvert_exporter": "python",
   "pygments_lexer": "ipython3",
   "version": "3.12.9"
  }
 },
 "nbformat": 4,
 "nbformat_minor": 5
}
